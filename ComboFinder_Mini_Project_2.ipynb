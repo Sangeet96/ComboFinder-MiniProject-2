{
  "nbformat": 4,
  "nbformat_minor": 0,
  "metadata": {
    "colab": {
      "provenance": [],
      "authorship_tag": "ABX9TyNvAUxdB+l8emmJwy+JEdvt",
      "include_colab_link": true
    },
    "kernelspec": {
      "name": "python3",
      "display_name": "Python 3"
    },
    "language_info": {
      "name": "python"
    }
  },
  "cells": [
    {
      "cell_type": "markdown",
      "metadata": {
        "id": "view-in-github",
        "colab_type": "text"
      },
      "source": [
        "<a href=\"https://colab.research.google.com/github/Sangeet96/ComboFinder-MiniProject-2/blob/main/ComboFinder_Mini_Project_2.ipynb\" target=\"_parent\"><img src=\"https://colab.research.google.com/assets/colab-badge.svg\" alt=\"Open In Colab\"/></a>"
      ]
    },
    {
      "cell_type": "markdown",
      "source": [
        "IMPORTING LIBRARY"
      ],
      "metadata": {
        "id": "dJnctCk0XMNa"
      }
    },
    {
      "cell_type": "code",
      "source": [
        "import random as r"
      ],
      "metadata": {
        "id": "plRPoaToxhjb"
      },
      "execution_count": 66,
      "outputs": []
    },
    {
      "cell_type": "markdown",
      "source": [
        "MAKING A PRODUCT LIST"
      ],
      "metadata": {
        "id": "sfvx4QgPxoNv"
      }
    },
    {
      "cell_type": "code",
      "source": [
        "ProductList={'P1':10,'P2':15,'P3':20,'P4':25,'P5':30,'P6':35,'P7':40,'P8':45,'P9':50,'P10':55}"
      ],
      "metadata": {
        "id": "GvVdSwDexwlo"
      },
      "execution_count": 65,
      "outputs": []
    },
    {
      "cell_type": "markdown",
      "source": [
        "CALCULATING THE NUMBER OF ITERATIONS REQUIRED TO RUN THE CODE"
      ],
      "metadata": {
        "id": "GLpKQYJRx1F9"
      }
    },
    {
      "cell_type": "code",
      "source": [
        "# The Sublists containing 1,2,3,4,10,11,12 and so on elements can be ignored because they can never give sum of elements between 200 and 220.\n",
        "# Total number of sublists that can be formed are C(10,5)+C(10,6)+C(10,7)+C(10,8)+C(10,9)=637"
      ],
      "metadata": {
        "id": "dVTWKlHByBFj"
      },
      "execution_count": 67,
      "outputs": []
    },
    {
      "cell_type": "markdown",
      "source": [
        "COMPUTING THE RESULT"
      ],
      "metadata": {
        "id": "FSkfPXaSyaFF"
      }
    },
    {
      "cell_type": "code",
      "source": [
        "# Iterating the code for 912 times as calculated above\n",
        "\n",
        "for i in range(637):\n",
        "  \n",
        "  # Another Loop for Selecting Nummber Of ELements In a Sublist\n",
        "  for n in range(5,9):\n",
        "    SubList=r.sample(list(ProductList.keys()),n)\n",
        "    \n",
        "    # Calculating The Sum Of Elements\n",
        "    ProductSum=sum(ProductList[s] for s in SubList)\n",
        "    \n",
        "    # Checking The Range Of Sum \n",
        "    if(ProductSum>=200 and ProductSum<=220):\n",
        "      print(SubList)\n",
        "      count+=1\n",
        "    else:\n",
        "      continue"
      ],
      "metadata": {
        "id": "BnqDrBzYyal3"
      },
      "execution_count": null,
      "outputs": []
    },
    {
      "cell_type": "markdown",
      "source": [
        "COMPLETE CODE"
      ],
      "metadata": {
        "id": "0oiGSS595Veb"
      }
    },
    {
      "cell_type": "code",
      "execution_count": null,
      "metadata": {
        "id": "ofo_lGfjW8zN"
      },
      "outputs": [],
      "source": [
        "import random as r\n",
        "\n",
        "ProductList={'P1':10,'P2':15,'P3':20,'P4':25,'P5':30,'P6':35,'P6':40,'P7':45,'P8':50,'P9':55,'P10':60}\n",
        "['P7', 'P4', 'P9', 'P5', 'P8']\n",
        "count=0\n",
        "for i in range(637):\n",
        "  for n in range(5,9):\n",
        "    SubList=r.sample(list(ProductList.keys()),n)\n",
        "    ProductSum=sum(ProductList[s] for s in SubList)\n",
        "    if(ProductSum>=200 and ProductSum<=220):\n",
        "      print(SubList)\n",
        "      count+=1\n",
        "    else:\n",
        "      continue\n",
        "\n",
        "print(\"The total number of sublists are: \",count)\n"
      ]
    }
  ]
}